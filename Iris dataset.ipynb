{
 "cells": [
  {
   "cell_type": "code",
   "execution_count": 2,
   "metadata": {},
   "outputs": [],
   "source": [
    "import numpy as np\n",
    "import pandas as pd;\n",
    "import matplotlib.pyplot as plt\n",
    "import seaborn as sns\n",
    "sns.set()\n",
    "from sklearn.cluster import KMeans"
   ]
  },
  {
   "cell_type": "code",
   "execution_count": 3,
   "metadata": {},
   "outputs": [],
   "source": [
    "df=pd.read_csv('iris_dataset.csv')"
   ]
  },
  {
   "cell_type": "code",
   "execution_count": 4,
   "metadata": {},
   "outputs": [
    {
     "data": {
      "text/html": [
       "<div>\n",
       "<style scoped>\n",
       "    .dataframe tbody tr th:only-of-type {\n",
       "        vertical-align: middle;\n",
       "    }\n",
       "\n",
       "    .dataframe tbody tr th {\n",
       "        vertical-align: top;\n",
       "    }\n",
       "\n",
       "    .dataframe thead th {\n",
       "        text-align: right;\n",
       "    }\n",
       "</style>\n",
       "<table border=\"1\" class=\"dataframe\">\n",
       "  <thead>\n",
       "    <tr style=\"text-align: right;\">\n",
       "      <th></th>\n",
       "      <th>sepal_length</th>\n",
       "      <th>sepal_width</th>\n",
       "      <th>petal_length</th>\n",
       "      <th>petal_width</th>\n",
       "    </tr>\n",
       "  </thead>\n",
       "  <tbody>\n",
       "    <tr>\n",
       "      <th>0</th>\n",
       "      <td>5.1</td>\n",
       "      <td>3.5</td>\n",
       "      <td>1.4</td>\n",
       "      <td>0.2</td>\n",
       "    </tr>\n",
       "    <tr>\n",
       "      <th>1</th>\n",
       "      <td>4.9</td>\n",
       "      <td>3.0</td>\n",
       "      <td>1.4</td>\n",
       "      <td>0.2</td>\n",
       "    </tr>\n",
       "    <tr>\n",
       "      <th>2</th>\n",
       "      <td>4.7</td>\n",
       "      <td>3.2</td>\n",
       "      <td>1.3</td>\n",
       "      <td>0.2</td>\n",
       "    </tr>\n",
       "    <tr>\n",
       "      <th>3</th>\n",
       "      <td>4.6</td>\n",
       "      <td>3.1</td>\n",
       "      <td>1.5</td>\n",
       "      <td>0.2</td>\n",
       "    </tr>\n",
       "    <tr>\n",
       "      <th>4</th>\n",
       "      <td>5.0</td>\n",
       "      <td>3.6</td>\n",
       "      <td>1.4</td>\n",
       "      <td>0.2</td>\n",
       "    </tr>\n",
       "    <tr>\n",
       "      <th>...</th>\n",
       "      <td>...</td>\n",
       "      <td>...</td>\n",
       "      <td>...</td>\n",
       "      <td>...</td>\n",
       "    </tr>\n",
       "    <tr>\n",
       "      <th>145</th>\n",
       "      <td>6.7</td>\n",
       "      <td>3.0</td>\n",
       "      <td>5.2</td>\n",
       "      <td>2.3</td>\n",
       "    </tr>\n",
       "    <tr>\n",
       "      <th>146</th>\n",
       "      <td>6.3</td>\n",
       "      <td>2.5</td>\n",
       "      <td>5.0</td>\n",
       "      <td>1.9</td>\n",
       "    </tr>\n",
       "    <tr>\n",
       "      <th>147</th>\n",
       "      <td>6.5</td>\n",
       "      <td>3.0</td>\n",
       "      <td>5.2</td>\n",
       "      <td>2.0</td>\n",
       "    </tr>\n",
       "    <tr>\n",
       "      <th>148</th>\n",
       "      <td>6.2</td>\n",
       "      <td>3.4</td>\n",
       "      <td>5.4</td>\n",
       "      <td>2.3</td>\n",
       "    </tr>\n",
       "    <tr>\n",
       "      <th>149</th>\n",
       "      <td>5.9</td>\n",
       "      <td>3.0</td>\n",
       "      <td>5.1</td>\n",
       "      <td>1.8</td>\n",
       "    </tr>\n",
       "  </tbody>\n",
       "</table>\n",
       "<p>150 rows × 4 columns</p>\n",
       "</div>"
      ],
      "text/plain": [
       "     sepal_length  sepal_width  petal_length  petal_width\n",
       "0             5.1          3.5           1.4          0.2\n",
       "1             4.9          3.0           1.4          0.2\n",
       "2             4.7          3.2           1.3          0.2\n",
       "3             4.6          3.1           1.5          0.2\n",
       "4             5.0          3.6           1.4          0.2\n",
       "..            ...          ...           ...          ...\n",
       "145           6.7          3.0           5.2          2.3\n",
       "146           6.3          2.5           5.0          1.9\n",
       "147           6.5          3.0           5.2          2.0\n",
       "148           6.2          3.4           5.4          2.3\n",
       "149           5.9          3.0           5.1          1.8\n",
       "\n",
       "[150 rows x 4 columns]"
      ]
     },
     "execution_count": 4,
     "metadata": {},
     "output_type": "execute_result"
    }
   ],
   "source": [
    "df"
   ]
  },
  {
   "cell_type": "code",
   "execution_count": 5,
   "metadata": {},
   "outputs": [
    {
     "data": {
      "image/png": "[encoded data removed]",
      "text/plain": [
       "<Figure size 432x288 with 1 Axes>"
      ]
     },
     "metadata": {},
     "output_type": "display_data"
    }
   ],
   "source": [
    "plt.scatter(df['sepal_length'],df['sepal_width'])\n",
    "plt.xlabel('length of sepal')\n",
    "plt.ylabel('breadth of sepal')\n",
    "plt.show()"
   ]
  },
  {
   "cell_type": "code",
   "execution_count": 6,
   "metadata": {},
   "outputs": [
    {
     "data": {
      "text/plain": [
       "KMeans(n_clusters=2)"
      ]
     },
     "execution_count": 6,
     "metadata": {},
     "output_type": "execute_result"
    }
   ],
   "source": [
    "data=df.copy()\n",
    "kmeans=KMeans(2)\n",
    "kmeans.fit(data)"
   ]
  },
  {
   "cell_type": "code",
   "execution_count": 7,
   "metadata": {},
   "outputs": [],
   "source": [
    "cluster=df.copy()\n",
    "cluster['cluster_predict']=kmeans.fit_predict(data)"
   ]
  },
  {
   "cell_type": "code",
   "execution_count": 8,
   "metadata": {
    "scrolled": true
   },
   "outputs": [
    {
     "data": {
      "text/plain": [
       "<matplotlib.collections.PathCollection at 0xc639eebaf0>"
      ]
     },
     "execution_count": 8,
     "metadata": {},
     "output_type": "execute_result"
    },
    {
     "data": {
      "image/png": "[encoded data removed]",
      "text/plain": [
       "<Figure size 432x288 with 1 Axes>"
      ]
     },
     "metadata": {},
     "output_type": "display_data"
    }
   ],
   "source": [
    "plt.scatter(cluster['sepal_length'],cluster['sepal_width'],c=cluster['cluster_predict'],cmap='rainbow')"
   ]
  },
  {
   "cell_type": "markdown",
   "metadata": {},
   "source": [
    "# Standardize the variables"
   ]
  },
  {
   "cell_type": "code",
   "execution_count": 9,
   "metadata": {},
   "outputs": [
    {
     "data": {
      "text/plain": [
       "array([[-9.00681170e-01,  1.03205722e+00, -1.34127240e+00,\n",
       "        -1.31297673e+00],\n",
       "       [-1.14301691e+00, -1.24957601e-01, -1.34127240e+00,\n",
       "        -1.31297673e+00],\n",
       "       [-1.38535265e+00,  3.37848329e-01, -1.39813811e+00,\n",
       "        -1.31297673e+00],\n",
       "       [-1.50652052e+00,  1.06445364e-01, -1.28440670e+00,\n",
       "        -1.31297673e+00],\n",
       "       [-1.02184904e+00,  1.26346019e+00, -1.34127240e+00,\n",
       "        -1.31297673e+00],\n",
       "       [-5.37177559e-01,  1.95766909e+00, -1.17067529e+00,\n",
       "        -1.05003079e+00],\n",
       "       [-1.50652052e+00,  8.00654259e-01, -1.34127240e+00,\n",
       "        -1.18150376e+00],\n",
       "       [-1.02184904e+00,  8.00654259e-01, -1.28440670e+00,\n",
       "        -1.31297673e+00],\n",
       "       [-1.74885626e+00, -3.56360566e-01, -1.34127240e+00,\n",
       "        -1.31297673e+00],\n",
       "       [-1.14301691e+00,  1.06445364e-01, -1.28440670e+00,\n",
       "        -1.44444970e+00],\n",
       "       [-5.37177559e-01,  1.49486315e+00, -1.28440670e+00,\n",
       "        -1.31297673e+00],\n",
       "       [-1.26418478e+00,  8.00654259e-01, -1.22754100e+00,\n",
       "        -1.31297673e+00],\n",
       "       [-1.26418478e+00, -1.24957601e-01, -1.34127240e+00,\n",
       "        -1.44444970e+00],\n",
       "       [-1.87002413e+00, -1.24957601e-01, -1.51186952e+00,\n",
       "        -1.44444970e+00],\n",
       "       [-5.25060772e-02,  2.18907205e+00, -1.45500381e+00,\n",
       "        -1.31297673e+00],\n",
       "       [-1.73673948e-01,  3.11468391e+00, -1.28440670e+00,\n",
       "        -1.05003079e+00],\n",
       "       [-5.37177559e-01,  1.95766909e+00, -1.39813811e+00,\n",
       "        -1.05003079e+00],\n",
       "       [-9.00681170e-01,  1.03205722e+00, -1.34127240e+00,\n",
       "        -1.18150376e+00],\n",
       "       [-1.73673948e-01,  1.72626612e+00, -1.17067529e+00,\n",
       "        -1.18150376e+00],\n",
       "       [-9.00681170e-01,  1.72626612e+00, -1.28440670e+00,\n",
       "        -1.18150376e+00],\n",
       "       [-5.37177559e-01,  8.00654259e-01, -1.17067529e+00,\n",
       "        -1.31297673e+00],\n",
       "       [-9.00681170e-01,  1.49486315e+00, -1.28440670e+00,\n",
       "        -1.05003079e+00],\n",
       "       [-1.50652052e+00,  1.26346019e+00, -1.56873522e+00,\n",
       "        -1.31297673e+00],\n",
       "       [-9.00681170e-01,  5.69251294e-01, -1.17067529e+00,\n",
       "        -9.18557817e-01],\n",
       "       [-1.26418478e+00,  8.00654259e-01, -1.05694388e+00,\n",
       "        -1.31297673e+00],\n",
       "       [-1.02184904e+00, -1.24957601e-01, -1.22754100e+00,\n",
       "        -1.31297673e+00],\n",
       "       [-1.02184904e+00,  8.00654259e-01, -1.22754100e+00,\n",
       "        -1.05003079e+00],\n",
       "       [-7.79513300e-01,  1.03205722e+00, -1.28440670e+00,\n",
       "        -1.31297673e+00],\n",
       "       [-7.79513300e-01,  8.00654259e-01, -1.34127240e+00,\n",
       "        -1.31297673e+00],\n",
       "       [-1.38535265e+00,  3.37848329e-01, -1.22754100e+00,\n",
       "        -1.31297673e+00],\n",
       "       [-1.26418478e+00,  1.06445364e-01, -1.22754100e+00,\n",
       "        -1.31297673e+00],\n",
       "       [-5.37177559e-01,  8.00654259e-01, -1.28440670e+00,\n",
       "        -1.05003079e+00],\n",
       "       [-7.79513300e-01,  2.42047502e+00, -1.28440670e+00,\n",
       "        -1.44444970e+00],\n",
       "       [-4.16009689e-01,  2.65187798e+00, -1.34127240e+00,\n",
       "        -1.31297673e+00],\n",
       "       [-1.14301691e+00,  1.06445364e-01, -1.28440670e+00,\n",
       "        -1.44444970e+00],\n",
       "       [-1.02184904e+00,  3.37848329e-01, -1.45500381e+00,\n",
       "        -1.31297673e+00],\n",
       "       [-4.16009689e-01,  1.03205722e+00, -1.39813811e+00,\n",
       "        -1.31297673e+00],\n",
       "       [-1.14301691e+00,  1.06445364e-01, -1.28440670e+00,\n",
       "        -1.44444970e+00],\n",
       "       [-1.74885626e+00, -1.24957601e-01, -1.39813811e+00,\n",
       "        -1.31297673e+00],\n",
       "       [-9.00681170e-01,  8.00654259e-01, -1.28440670e+00,\n",
       "        -1.31297673e+00],\n",
       "       [-1.02184904e+00,  1.03205722e+00, -1.39813811e+00,\n",
       "        -1.18150376e+00],\n",
       "       [-1.62768839e+00, -1.74477836e+00, -1.39813811e+00,\n",
       "        -1.18150376e+00],\n",
       "       [-1.74885626e+00,  3.37848329e-01, -1.39813811e+00,\n",
       "        -1.31297673e+00],\n",
       "       [-1.02184904e+00,  1.03205722e+00, -1.22754100e+00,\n",
       "        -7.87084847e-01],\n",
       "       [-9.00681170e-01,  1.72626612e+00, -1.05694388e+00,\n",
       "        -1.05003079e+00],\n",
       "       [-1.26418478e+00, -1.24957601e-01, -1.34127240e+00,\n",
       "        -1.18150376e+00],\n",
       "       [-9.00681170e-01,  1.72626612e+00, -1.22754100e+00,\n",
       "        -1.31297673e+00],\n",
       "       [-1.50652052e+00,  3.37848329e-01, -1.34127240e+00,\n",
       "        -1.31297673e+00],\n",
       "       [-6.58345429e-01,  1.49486315e+00, -1.28440670e+00,\n",
       "        -1.31297673e+00],\n",
       "       [-1.02184904e+00,  5.69251294e-01, -1.34127240e+00,\n",
       "        -1.31297673e+00],\n",
       "       [ 1.40150837e+00,  3.37848329e-01,  5.35295827e-01,\n",
       "         2.64698913e-01],\n",
       "       [ 6.74501145e-01,  3.37848329e-01,  4.21564419e-01,\n",
       "         3.96171883e-01],\n",
       "       [ 1.28034050e+00,  1.06445364e-01,  6.49027235e-01,\n",
       "         3.96171883e-01],\n",
       "       [-4.16009689e-01, -1.74477836e+00,  1.37235899e-01,\n",
       "         1.33225943e-01],\n",
       "       [ 7.95669016e-01, -5.87763531e-01,  4.78430123e-01,\n",
       "         3.96171883e-01],\n",
       "       [-1.73673948e-01, -5.87763531e-01,  4.21564419e-01,\n",
       "         1.33225943e-01],\n",
       "       [ 5.53333275e-01,  5.69251294e-01,  5.35295827e-01,\n",
       "         5.27644853e-01],\n",
       "       [-1.14301691e+00, -1.51337539e+00, -2.60824029e-01,\n",
       "        -2.61192967e-01],\n",
       "       [ 9.16836886e-01, -3.56360566e-01,  4.78430123e-01,\n",
       "         1.33225943e-01],\n",
       "       [-7.79513300e-01, -8.19166497e-01,  8.03701950e-02,\n",
       "         2.64698913e-01],\n",
       "       [-1.02184904e+00, -2.43898725e+00, -1.47092621e-01,\n",
       "        -2.61192967e-01],\n",
       "       [ 6.86617933e-02, -1.24957601e-01,  2.50967307e-01,\n",
       "         3.96171883e-01],\n",
       "       [ 1.89829664e-01, -1.97618132e+00,  1.37235899e-01,\n",
       "        -2.61192967e-01],\n",
       "       [ 3.10997534e-01, -3.56360566e-01,  5.35295827e-01,\n",
       "         2.64698913e-01],\n",
       "       [-2.94841818e-01, -3.56360566e-01, -9.02269170e-02,\n",
       "         1.33225943e-01],\n",
       "       [ 1.03800476e+00,  1.06445364e-01,  3.64698715e-01,\n",
       "         2.64698913e-01],\n",
       "       [-2.94841818e-01, -1.24957601e-01,  4.21564419e-01,\n",
       "         3.96171883e-01],\n",
       "       [-5.25060772e-02, -8.19166497e-01,  1.94101603e-01,\n",
       "        -2.61192967e-01],\n",
       "       [ 4.32165405e-01, -1.97618132e+00,  4.21564419e-01,\n",
       "         3.96171883e-01],\n",
       "       [-2.94841818e-01, -1.28197243e+00,  8.03701950e-02,\n",
       "        -1.29719997e-01],\n",
       "       [ 6.86617933e-02,  3.37848329e-01,  5.92161531e-01,\n",
       "         7.90590793e-01],\n",
       "       [ 3.10997534e-01, -5.87763531e-01,  1.37235899e-01,\n",
       "         1.33225943e-01],\n",
       "       [ 5.53333275e-01, -1.28197243e+00,  6.49027235e-01,\n",
       "         3.96171883e-01],\n",
       "       [ 3.10997534e-01, -5.87763531e-01,  5.35295827e-01,\n",
       "         1.75297293e-03],\n",
       "       [ 6.74501145e-01, -3.56360566e-01,  3.07833011e-01,\n",
       "         1.33225943e-01],\n",
       "       [ 9.16836886e-01, -1.24957601e-01,  3.64698715e-01,\n",
       "         2.64698913e-01],\n",
       "       [ 1.15917263e+00, -5.87763531e-01,  5.92161531e-01,\n",
       "         2.64698913e-01],\n",
       "       [ 1.03800476e+00, -1.24957601e-01,  7.05892939e-01,\n",
       "         6.59117823e-01],\n",
       "       [ 1.89829664e-01, -3.56360566e-01,  4.21564419e-01,\n",
       "         3.96171883e-01],\n",
       "       [-1.73673948e-01, -1.05056946e+00, -1.47092621e-01,\n",
       "        -2.61192967e-01],\n",
       "       [-4.16009689e-01, -1.51337539e+00,  2.35044910e-02,\n",
       "        -1.29719997e-01],\n",
       "       [-4.16009689e-01, -1.51337539e+00, -3.33612130e-02,\n",
       "        -2.61192967e-01],\n",
       "       [-5.25060772e-02, -8.19166497e-01,  8.03701950e-02,\n",
       "         1.75297293e-03],\n",
       "       [ 1.89829664e-01, -8.19166497e-01,  7.62758643e-01,\n",
       "         5.27644853e-01],\n",
       "       [-5.37177559e-01, -1.24957601e-01,  4.21564419e-01,\n",
       "         3.96171883e-01],\n",
       "       [ 1.89829664e-01,  8.00654259e-01,  4.21564419e-01,\n",
       "         5.27644853e-01],\n",
       "       [ 1.03800476e+00,  1.06445364e-01,  5.35295827e-01,\n",
       "         3.96171883e-01],\n",
       "       [ 5.53333275e-01, -1.74477836e+00,  3.64698715e-01,\n",
       "         1.33225943e-01],\n",
       "       [-2.94841818e-01, -1.24957601e-01,  1.94101603e-01,\n",
       "         1.33225943e-01],\n",
       "       [-4.16009689e-01, -1.28197243e+00,  1.37235899e-01,\n",
       "         1.33225943e-01],\n",
       "       [-4.16009689e-01, -1.05056946e+00,  3.64698715e-01,\n",
       "         1.75297293e-03],\n",
       "       [ 3.10997534e-01, -1.24957601e-01,  4.78430123e-01,\n",
       "         2.64698913e-01],\n",
       "       [-5.25060772e-02, -1.05056946e+00,  1.37235899e-01,\n",
       "         1.75297293e-03],\n",
       "       [-1.02184904e+00, -1.74477836e+00, -2.60824029e-01,\n",
       "        -2.61192967e-01],\n",
       "       [-2.94841818e-01, -8.19166497e-01,  2.50967307e-01,\n",
       "         1.33225943e-01],\n",
       "       [-1.73673948e-01, -1.24957601e-01,  2.50967307e-01,\n",
       "         1.75297293e-03],\n",
       "       [-1.73673948e-01, -3.56360566e-01,  2.50967307e-01,\n",
       "         1.33225943e-01],\n",
       "       [ 4.32165405e-01, -3.56360566e-01,  3.07833011e-01,\n",
       "         1.33225943e-01],\n",
       "       [-9.00681170e-01, -1.28197243e+00, -4.31421141e-01,\n",
       "        -1.29719997e-01],\n",
       "       [-1.73673948e-01, -5.87763531e-01,  1.94101603e-01,\n",
       "         1.33225943e-01],\n",
       "       [ 5.53333275e-01,  5.69251294e-01,  1.27454998e+00,\n",
       "         1.71090158e+00],\n",
       "       [-5.25060772e-02, -8.19166497e-01,  7.62758643e-01,\n",
       "         9.22063763e-01],\n",
       "       [ 1.52267624e+00, -1.24957601e-01,  1.21768427e+00,\n",
       "         1.18500970e+00],\n",
       "       [ 5.53333275e-01, -3.56360566e-01,  1.04708716e+00,\n",
       "         7.90590793e-01],\n",
       "       [ 7.95669016e-01, -1.24957601e-01,  1.16081857e+00,\n",
       "         1.31648267e+00],\n",
       "       [ 2.12851559e+00, -1.24957601e-01,  1.61574420e+00,\n",
       "         1.18500970e+00],\n",
       "       [-1.14301691e+00, -1.28197243e+00,  4.21564419e-01,\n",
       "         6.59117823e-01],\n",
       "       [ 1.76501198e+00, -3.56360566e-01,  1.44514709e+00,\n",
       "         7.90590793e-01],\n",
       "       [ 1.03800476e+00, -1.28197243e+00,  1.16081857e+00,\n",
       "         7.90590793e-01],\n",
       "       [ 1.64384411e+00,  1.26346019e+00,  1.33141568e+00,\n",
       "         1.71090158e+00],\n",
       "       [ 7.95669016e-01,  3.37848329e-01,  7.62758643e-01,\n",
       "         1.05353673e+00],\n",
       "       [ 6.74501145e-01, -8.19166497e-01,  8.76490051e-01,\n",
       "         9.22063763e-01],\n",
       "       [ 1.15917263e+00, -1.24957601e-01,  9.90221459e-01,\n",
       "         1.18500970e+00],\n",
       "       [-1.73673948e-01, -1.28197243e+00,  7.05892939e-01,\n",
       "         1.05353673e+00],\n",
       "       [-5.25060772e-02, -5.87763531e-01,  7.62758643e-01,\n",
       "         1.57942861e+00],\n",
       "       [ 6.74501145e-01,  3.37848329e-01,  8.76490051e-01,\n",
       "         1.44795564e+00],\n",
       "       [ 7.95669016e-01, -1.24957601e-01,  9.90221459e-01,\n",
       "         7.90590793e-01],\n",
       "       [ 2.24968346e+00,  1.72626612e+00,  1.67260991e+00,\n",
       "         1.31648267e+00],\n",
       "       [ 2.24968346e+00, -1.05056946e+00,  1.78634131e+00,\n",
       "         1.44795564e+00],\n",
       "       [ 1.89829664e-01, -1.97618132e+00,  7.05892939e-01,\n",
       "         3.96171883e-01],\n",
       "       [ 1.28034050e+00,  3.37848329e-01,  1.10395287e+00,\n",
       "         1.44795564e+00],\n",
       "       [-2.94841818e-01, -5.87763531e-01,  6.49027235e-01,\n",
       "         1.05353673e+00],\n",
       "       [ 2.24968346e+00, -5.87763531e-01,  1.67260991e+00,\n",
       "         1.05353673e+00],\n",
       "       [ 5.53333275e-01, -8.19166497e-01,  6.49027235e-01,\n",
       "         7.90590793e-01],\n",
       "       [ 1.03800476e+00,  5.69251294e-01,  1.10395287e+00,\n",
       "         1.18500970e+00],\n",
       "       [ 1.64384411e+00,  3.37848329e-01,  1.27454998e+00,\n",
       "         7.90590793e-01],\n",
       "       [ 4.32165405e-01, -5.87763531e-01,  5.92161531e-01,\n",
       "         7.90590793e-01],\n",
       "       [ 3.10997534e-01, -1.24957601e-01,  6.49027235e-01,\n",
       "         7.90590793e-01],\n",
       "       [ 6.74501145e-01, -5.87763531e-01,  1.04708716e+00,\n",
       "         1.18500970e+00],\n",
       "       [ 1.64384411e+00, -1.24957601e-01,  1.16081857e+00,\n",
       "         5.27644853e-01],\n",
       "       [ 1.88617985e+00, -5.87763531e-01,  1.33141568e+00,\n",
       "         9.22063763e-01],\n",
       "       [ 2.49201920e+00,  1.72626612e+00,  1.50201279e+00,\n",
       "         1.05353673e+00],\n",
       "       [ 6.74501145e-01, -5.87763531e-01,  1.04708716e+00,\n",
       "         1.31648267e+00],\n",
       "       [ 5.53333275e-01, -5.87763531e-01,  7.62758643e-01,\n",
       "         3.96171883e-01],\n",
       "       [ 3.10997534e-01, -1.05056946e+00,  1.04708716e+00,\n",
       "         2.64698913e-01],\n",
       "       [ 2.24968346e+00, -1.24957601e-01,  1.33141568e+00,\n",
       "         1.44795564e+00],\n",
       "       [ 5.53333275e-01,  8.00654259e-01,  1.04708716e+00,\n",
       "         1.57942861e+00],\n",
       "       [ 6.74501145e-01,  1.06445364e-01,  9.90221459e-01,\n",
       "         7.90590793e-01],\n",
       "       [ 1.89829664e-01, -1.24957601e-01,  5.92161531e-01,\n",
       "         7.90590793e-01],\n",
       "       [ 1.28034050e+00,  1.06445364e-01,  9.33355755e-01,\n",
       "         1.18500970e+00],\n",
       "       [ 1.03800476e+00,  1.06445364e-01,  1.04708716e+00,\n",
       "         1.57942861e+00],\n",
       "       [ 1.28034050e+00,  1.06445364e-01,  7.62758643e-01,\n",
       "         1.44795564e+00],\n",
       "       [-5.25060772e-02, -8.19166497e-01,  7.62758643e-01,\n",
       "         9.22063763e-01],\n",
       "       [ 1.15917263e+00,  3.37848329e-01,  1.21768427e+00,\n",
       "         1.44795564e+00],\n",
       "       [ 1.03800476e+00,  5.69251294e-01,  1.10395287e+00,\n",
       "         1.71090158e+00],\n",
       "       [ 1.03800476e+00, -1.24957601e-01,  8.19624347e-01,\n",
       "         1.44795564e+00],\n",
       "       [ 5.53333275e-01, -1.28197243e+00,  7.05892939e-01,\n",
       "         9.22063763e-01],\n",
       "       [ 7.95669016e-01, -1.24957601e-01,  8.19624347e-01,\n",
       "         1.05353673e+00],\n",
       "       [ 4.32165405e-01,  8.00654259e-01,  9.33355755e-01,\n",
       "         1.44795564e+00],\n",
       "       [ 6.86617933e-02, -1.24957601e-01,  7.62758643e-01,\n",
       "         7.90590793e-01]])"
      ]
     },
     "execution_count": 9,
     "metadata": {},
     "output_type": "execute_result"
    }
   ],
   "source": [
    "from sklearn import preprocessing\n",
    "x_scaled = preprocessing.scale(df)\n",
    "x_scaled"
   ]
  },
  {
   "cell_type": "markdown",
   "metadata": {},
   "source": [
    "## Clustering (scaled data)"
   ]
  },
  {
   "cell_type": "code",
   "execution_count": 10,
   "metadata": {},
   "outputs": [
    {
     "data": {
      "text/plain": [
       "KMeans(n_clusters=2)"
      ]
     },
     "execution_count": 10,
     "metadata": {},
     "output_type": "execute_result"
    }
   ],
   "source": [
    "kmeans_scaled=KMeans(2)\n",
    "kmeans_scaled.fit(x_scaled)"
   ]
  },
  {
   "cell_type": "code",
   "execution_count": 11,
   "metadata": {},
   "outputs": [],
   "source": [
    "scaled=data.copy()\n",
    "scaled['scaled_predict']= kmeans_scaled.fit_predict(x_scaled)"
   ]
  },
  {
   "cell_type": "code",
   "execution_count": 12,
   "metadata": {
    "scrolled": true
   },
   "outputs": [
    {
     "data": {
      "text/plain": [
       "<matplotlib.collections.PathCollection at 0xc63a38efd0>"
      ]
     },
     "execution_count": 12,
     "metadata": {},
     "output_type": "execute_result"
    },
    {
     "data": {
      "image/png": "[encoded data removed]",
      "text/plain": [
       "<Figure size 432x288 with 1 Axes>"
      ]
     },
     "metadata": {},
     "output_type": "display_data"
    }
   ],
   "source": [
    "plt.scatter(scaled['sepal_length'],scaled['sepal_width'],c=scaled['scaled_predict'],cmap='rainbow')"
   ]
  },
  {
   "cell_type": "markdown",
   "metadata": {},
   "source": [
    "# Elbow Method"
   ]
  },
  {
   "cell_type": "code",
   "execution_count": 13,
   "metadata": {},
   "outputs": [
    {
     "data": {
      "text/plain": [
       "[600.0000000000003,\n",
       " 223.73200573676343,\n",
       " 140.96581663074699,\n",
       " 114.61550694959811,\n",
       " 91.12763977985172,\n",
       " 80.20433441381103,\n",
       " 70.88546993521874,\n",
       " 63.154892549068,\n",
       " 54.2887722825504]"
      ]
     },
     "execution_count": 13,
     "metadata": {},
     "output_type": "execute_result"
    }
   ],
   "source": [
    "wcss = []\n",
    "cl_num = 10\n",
    "for i in range (1,cl_num):\n",
    "    kmeans= KMeans(i)\n",
    "    kmeans.fit(x_scaled)\n",
    "    wcss_iter = kmeans.inertia_\n",
    "    wcss.append(wcss_iter)\n",
    "wcss\n"
   ]
  },
  {
   "cell_type": "code",
   "execution_count": 14,
   "metadata": {},
   "outputs": [
    {
     "data": {
      "text/plain": [
       "Text(0, 0.5, 'Within-cluster Sum of Squares')"
      ]
     },
     "execution_count": 14,
     "metadata": {},
     "output_type": "execute_result"
    },
    {
     "data": {
      "image/png": "[encoded data removed]",
      "text/plain": [
       "<Figure size 432x288 with 1 Axes>"
      ]
     },
     "metadata": {},
     "output_type": "display_data"
    }
   ],
   "source": [
    "number_clusters = range(1,cl_num)\n",
    "plt.plot(number_clusters, wcss)\n",
    "plt.title('The Elbow Method')\n",
    "plt.xlabel('Number of clusters')\n",
    "plt.ylabel('Within-cluster Sum of Squares')"
   ]
  },
  {
   "cell_type": "code",
   "execution_count": 44,
   "metadata": {},
   "outputs": [
    {
     "data": {
      "text/plain": [
       "KMeans(n_clusters=3)"
      ]
     },
     "execution_count": 44,
     "metadata": {},
     "output_type": "execute_result"
    }
   ],
   "source": [
    "kmeans_scaled5=KMeans(3)\n",
    "kmeans_scaled5.fit(x_scaled)"
   ]
  },
  {
   "cell_type": "code",
   "execution_count": 45,
   "metadata": {},
   "outputs": [],
   "source": [
    "scaled['scaled_predict5']=kmeans_scaled5.fit_predict(x_scaled)"
   ]
  },
  {
   "cell_type": "code",
   "execution_count": 46,
   "metadata": {
    "scrolled": true
   },
   "outputs": [
    {
     "data": {
      "text/plain": [
       "<matplotlib.collections.PathCollection at 0xc63a614e20>"
      ]
     },
     "execution_count": 46,
     "metadata": {},
     "output_type": "execute_result"
    },
    {
     "data": {
      "image/png": "[encoded data removed]",
      "text/plain": [
       "<Figure size 432x288 with 1 Axes>"
      ]
     },
     "metadata": {},
     "output_type": "display_data"
    }
   ],
   "source": [
    "plt.scatter(scaled['sepal_length'],scaled['sepal_width'],c=scaled['scaled_predict5'],cmap='rainbow')"
   ]
  },
  {
   "cell_type": "markdown",
   "metadata": {},
   "source": [
    "# Compare your solutions to the original iris dataset"
   ]
  },
  {
   "cell_type": "code",
   "execution_count": 38,
   "metadata": {},
   "outputs": [],
   "source": [
    "real=pd.read_csv('iris_with_answers.csv')"
   ]
  },
  {
   "cell_type": "code",
   "execution_count": 39,
   "metadata": {},
   "outputs": [
    {
     "data": {
      "text/html": [
       "<div>\n",
       "<style scoped>\n",
       "    .dataframe tbody tr th:only-of-type {\n",
       "        vertical-align: middle;\n",
       "    }\n",
       "\n",
       "    .dataframe tbody tr th {\n",
       "        vertical-align: top;\n",
       "    }\n",
       "\n",
       "    .dataframe thead th {\n",
       "        text-align: right;\n",
       "    }\n",
       "</style>\n",
       "<table border=\"1\" class=\"dataframe\">\n",
       "  <thead>\n",
       "    <tr style=\"text-align: right;\">\n",
       "      <th></th>\n",
       "      <th>sepal_length</th>\n",
       "      <th>sepal_width</th>\n",
       "      <th>petal_length</th>\n",
       "      <th>petal_width</th>\n",
       "      <th>species</th>\n",
       "    </tr>\n",
       "  </thead>\n",
       "  <tbody>\n",
       "    <tr>\n",
       "      <th>0</th>\n",
       "      <td>5.1</td>\n",
       "      <td>3.5</td>\n",
       "      <td>1.4</td>\n",
       "      <td>0.2</td>\n",
       "      <td>setosa</td>\n",
       "    </tr>\n",
       "    <tr>\n",
       "      <th>1</th>\n",
       "      <td>4.9</td>\n",
       "      <td>3.0</td>\n",
       "      <td>1.4</td>\n",
       "      <td>0.2</td>\n",
       "      <td>setosa</td>\n",
       "    </tr>\n",
       "    <tr>\n",
       "      <th>2</th>\n",
       "      <td>4.7</td>\n",
       "      <td>3.2</td>\n",
       "      <td>1.3</td>\n",
       "      <td>0.2</td>\n",
       "      <td>setosa</td>\n",
       "    </tr>\n",
       "    <tr>\n",
       "      <th>3</th>\n",
       "      <td>4.6</td>\n",
       "      <td>3.1</td>\n",
       "      <td>1.5</td>\n",
       "      <td>0.2</td>\n",
       "      <td>setosa</td>\n",
       "    </tr>\n",
       "    <tr>\n",
       "      <th>4</th>\n",
       "      <td>5.0</td>\n",
       "      <td>3.6</td>\n",
       "      <td>1.4</td>\n",
       "      <td>0.2</td>\n",
       "      <td>setosa</td>\n",
       "    </tr>\n",
       "    <tr>\n",
       "      <th>...</th>\n",
       "      <td>...</td>\n",
       "      <td>...</td>\n",
       "      <td>...</td>\n",
       "      <td>...</td>\n",
       "      <td>...</td>\n",
       "    </tr>\n",
       "    <tr>\n",
       "      <th>145</th>\n",
       "      <td>6.7</td>\n",
       "      <td>3.0</td>\n",
       "      <td>5.2</td>\n",
       "      <td>2.3</td>\n",
       "      <td>virginica</td>\n",
       "    </tr>\n",
       "    <tr>\n",
       "      <th>146</th>\n",
       "      <td>6.3</td>\n",
       "      <td>2.5</td>\n",
       "      <td>5.0</td>\n",
       "      <td>1.9</td>\n",
       "      <td>virginica</td>\n",
       "    </tr>\n",
       "    <tr>\n",
       "      <th>147</th>\n",
       "      <td>6.5</td>\n",
       "      <td>3.0</td>\n",
       "      <td>5.2</td>\n",
       "      <td>2.0</td>\n",
       "      <td>virginica</td>\n",
       "    </tr>\n",
       "    <tr>\n",
       "      <th>148</th>\n",
       "      <td>6.2</td>\n",
       "      <td>3.4</td>\n",
       "      <td>5.4</td>\n",
       "      <td>2.3</td>\n",
       "      <td>virginica</td>\n",
       "    </tr>\n",
       "    <tr>\n",
       "      <th>149</th>\n",
       "      <td>5.9</td>\n",
       "      <td>3.0</td>\n",
       "      <td>5.1</td>\n",
       "      <td>1.8</td>\n",
       "      <td>virginica</td>\n",
       "    </tr>\n",
       "  </tbody>\n",
       "</table>\n",
       "<p>150 rows × 5 columns</p>\n",
       "</div>"
      ],
      "text/plain": [
       "     sepal_length  sepal_width  petal_length  petal_width    species\n",
       "0             5.1          3.5           1.4          0.2     setosa\n",
       "1             4.9          3.0           1.4          0.2     setosa\n",
       "2             4.7          3.2           1.3          0.2     setosa\n",
       "3             4.6          3.1           1.5          0.2     setosa\n",
       "4             5.0          3.6           1.4          0.2     setosa\n",
       "..            ...          ...           ...          ...        ...\n",
       "145           6.7          3.0           5.2          2.3  virginica\n",
       "146           6.3          2.5           5.0          1.9  virginica\n",
       "147           6.5          3.0           5.2          2.0  virginica\n",
       "148           6.2          3.4           5.4          2.3  virginica\n",
       "149           5.9          3.0           5.1          1.8  virginica\n",
       "\n",
       "[150 rows x 5 columns]"
      ]
     },
     "execution_count": 39,
     "metadata": {},
     "output_type": "execute_result"
    }
   ],
   "source": [
    "real"
   ]
  },
  {
   "cell_type": "code",
   "execution_count": 40,
   "metadata": {},
   "outputs": [
    {
     "data": {
      "text/plain": [
       "array(['setosa', 'versicolor', 'virginica'], dtype=object)"
      ]
     },
     "execution_count": 40,
     "metadata": {},
     "output_type": "execute_result"
    }
   ],
   "source": [
    "real['species'].unique()"
   ]
  },
  {
   "cell_type": "code",
   "execution_count": 41,
   "metadata": {},
   "outputs": [],
   "source": [
    "real['species']=real['species'].map({'setosa':0, 'versicolor':1 , 'virginica':2})"
   ]
  },
  {
   "cell_type": "code",
   "execution_count": 42,
   "metadata": {},
   "outputs": [
    {
     "data": {
      "text/html": [
       "<div>\n",
       "<style scoped>\n",
       "    .dataframe tbody tr th:only-of-type {\n",
       "        vertical-align: middle;\n",
       "    }\n",
       "\n",
       "    .dataframe tbody tr th {\n",
       "        vertical-align: top;\n",
       "    }\n",
       "\n",
       "    .dataframe thead th {\n",
       "        text-align: right;\n",
       "    }\n",
       "</style>\n",
       "<table border=\"1\" class=\"dataframe\">\n",
       "  <thead>\n",
       "    <tr style=\"text-align: right;\">\n",
       "      <th></th>\n",
       "      <th>sepal_length</th>\n",
       "      <th>sepal_width</th>\n",
       "      <th>petal_length</th>\n",
       "      <th>petal_width</th>\n",
       "      <th>species</th>\n",
       "    </tr>\n",
       "  </thead>\n",
       "  <tbody>\n",
       "    <tr>\n",
       "      <th>0</th>\n",
       "      <td>5.1</td>\n",
       "      <td>3.5</td>\n",
       "      <td>1.4</td>\n",
       "      <td>0.2</td>\n",
       "      <td>0</td>\n",
       "    </tr>\n",
       "    <tr>\n",
       "      <th>1</th>\n",
       "      <td>4.9</td>\n",
       "      <td>3.0</td>\n",
       "      <td>1.4</td>\n",
       "      <td>0.2</td>\n",
       "      <td>0</td>\n",
       "    </tr>\n",
       "    <tr>\n",
       "      <th>2</th>\n",
       "      <td>4.7</td>\n",
       "      <td>3.2</td>\n",
       "      <td>1.3</td>\n",
       "      <td>0.2</td>\n",
       "      <td>0</td>\n",
       "    </tr>\n",
       "    <tr>\n",
       "      <th>3</th>\n",
       "      <td>4.6</td>\n",
       "      <td>3.1</td>\n",
       "      <td>1.5</td>\n",
       "      <td>0.2</td>\n",
       "      <td>0</td>\n",
       "    </tr>\n",
       "    <tr>\n",
       "      <th>4</th>\n",
       "      <td>5.0</td>\n",
       "      <td>3.6</td>\n",
       "      <td>1.4</td>\n",
       "      <td>0.2</td>\n",
       "      <td>0</td>\n",
       "    </tr>\n",
       "    <tr>\n",
       "      <th>...</th>\n",
       "      <td>...</td>\n",
       "      <td>...</td>\n",
       "      <td>...</td>\n",
       "      <td>...</td>\n",
       "      <td>...</td>\n",
       "    </tr>\n",
       "    <tr>\n",
       "      <th>145</th>\n",
       "      <td>6.7</td>\n",
       "      <td>3.0</td>\n",
       "      <td>5.2</td>\n",
       "      <td>2.3</td>\n",
       "      <td>2</td>\n",
       "    </tr>\n",
       "    <tr>\n",
       "      <th>146</th>\n",
       "      <td>6.3</td>\n",
       "      <td>2.5</td>\n",
       "      <td>5.0</td>\n",
       "      <td>1.9</td>\n",
       "      <td>2</td>\n",
       "    </tr>\n",
       "    <tr>\n",
       "      <th>147</th>\n",
       "      <td>6.5</td>\n",
       "      <td>3.0</td>\n",
       "      <td>5.2</td>\n",
       "      <td>2.0</td>\n",
       "      <td>2</td>\n",
       "    </tr>\n",
       "    <tr>\n",
       "      <th>148</th>\n",
       "      <td>6.2</td>\n",
       "      <td>3.4</td>\n",
       "      <td>5.4</td>\n",
       "      <td>2.3</td>\n",
       "      <td>2</td>\n",
       "    </tr>\n",
       "    <tr>\n",
       "      <th>149</th>\n",
       "      <td>5.9</td>\n",
       "      <td>3.0</td>\n",
       "      <td>5.1</td>\n",
       "      <td>1.8</td>\n",
       "      <td>2</td>\n",
       "    </tr>\n",
       "  </tbody>\n",
       "</table>\n",
       "<p>150 rows × 5 columns</p>\n",
       "</div>"
      ],
      "text/plain": [
       "     sepal_length  sepal_width  petal_length  petal_width  species\n",
       "0             5.1          3.5           1.4          0.2        0\n",
       "1             4.9          3.0           1.4          0.2        0\n",
       "2             4.7          3.2           1.3          0.2        0\n",
       "3             4.6          3.1           1.5          0.2        0\n",
       "4             5.0          3.6           1.4          0.2        0\n",
       "..            ...          ...           ...          ...      ...\n",
       "145           6.7          3.0           5.2          2.3        2\n",
       "146           6.3          2.5           5.0          1.9        2\n",
       "147           6.5          3.0           5.2          2.0        2\n",
       "148           6.2          3.4           5.4          2.3        2\n",
       "149           5.9          3.0           5.1          1.8        2\n",
       "\n",
       "[150 rows x 5 columns]"
      ]
     },
     "execution_count": 42,
     "metadata": {},
     "output_type": "execute_result"
    }
   ],
   "source": [
    "real"
   ]
  },
  {
   "cell_type": "code",
   "execution_count": 43,
   "metadata": {},
   "outputs": [
    {
     "data": {
      "text/plain": [
       "<matplotlib.collections.PathCollection at 0xc63a6abfa0>"
      ]
     },
     "execution_count": 43,
     "metadata": {},
     "output_type": "execute_result"
    },
    {
     "data": {
      "image/png": "[encoded data removed]",
      "text/plain": [
       "<Figure size 432x288 with 1 Axes>"
      ]
     },
     "metadata": {},
     "output_type": "display_data"
    }
   ],
   "source": [
    " plt.scatter(real['sepal_length'],real['sepal_width'],c=real['species'],cmap='rainbow')"
   ]
  },
  {
   "cell_type": "code",
   "execution_count": 47,
   "metadata": {},
   "outputs": [
    {
     "data": {
      "text/plain": [
       "<matplotlib.collections.PathCollection at 0xc63360e160>"
      ]
     },
     "execution_count": 47,
     "metadata": {},
     "output_type": "execute_result"
    },
    {
     "data": {
      "image/png": "[encoded data removed]",
      "text/plain": [
       "<Figure size 432x288 with 1 Axes>"
      ]
     },
     "metadata": {},
     "output_type": "display_data"
    }
   ],
   "source": [
    "plt.scatter(real['petal_length'],real['petal_width'],c=real['species'],cmap='rainbow')"
   ]
  },
  {
   "cell_type": "code",
   "execution_count": 48,
   "metadata": {},
   "outputs": [
    {
     "data": {
      "text/plain": [
       "KMeans(n_clusters=3)"
      ]
     },
     "execution_count": 48,
     "metadata": {},
     "output_type": "execute_result"
    }
   ],
   "source": [
    "pkmeans=KMeans(3)\n",
    "pkmeans.fit(x_scaled)"
   ]
  },
  {
   "cell_type": "code",
   "execution_count": 49,
   "metadata": {},
   "outputs": [],
   "source": [
    "scaled['petal_preedict']=pkmeans.fit_predict(x_scaled)"
   ]
  },
  {
   "cell_type": "code",
   "execution_count": 53,
   "metadata": {},
   "outputs": [
    {
     "data": {
      "text/plain": [
       "<matplotlib.collections.PathCollection at 0xc63a7b3490>"
      ]
     },
     "execution_count": 53,
     "metadata": {},
     "output_type": "execute_result"
    },
    {
     "data": {
      "image/png": "[encoded data removed]",
      "text/plain": [
       "<Figure size 432x288 with 1 Axes>"
      ]
     },
     "metadata": {},
     "output_type": "display_data"
    }
   ],
   "source": [
    "plt.scatter(scaled['petal_length'],scaled['petal_width'],c=scaled['petal_preedict'],cmap='rainbow')"
   ]
  },
  {
   "cell_type": "markdown",
   "metadata": {},
   "source": [
    "This shows us that:\n",
    "\n",
    "The Elbow method is imperfect (we might have opted for 2 or even 4)\n",
    "K-means is very useful in moments where we already know the number of clusters - in this case: 3\n",
    "Biology cannot be always quantified (or better).. quantified with k-means! Other methods are much better at that"
   ]
  },
  {
   "cell_type": "code",
   "execution_count": null,
   "metadata": {},
   "outputs": [],
   "source": []
  }
 ],
 "metadata": {
  "kernelspec": {
   "display_name": "Python 3",
   "language": "python",
   "name": "python3"
  },
  "language_info": {
   "codemirror_mode": {
    "name": "ipython",
    "version": 3
   },
   "file_extension": ".py",
   "mimetype": "text/x-python",
   "name": "python",
   "nbconvert_exporter": "python",
   "pygments_lexer": "ipython3",
   "version": "3.8.3"
  }
 },
 "nbformat": 4,
 "nbformat_minor": 4
}
